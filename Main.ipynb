{
 "cells": [
  {
   "cell_type": "code",
   "execution_count": null,
   "id": "cd3d32e9",
   "metadata": {},
   "outputs": [],
   "source": [
    "import cv2\n",
    "import numpy as np\n",
    "import math\n",
    "import shutil\n",
    "import os\n",
    "os.mkdir('en')\n",
    "os.mkdir('de')\n",
    "os.remove('a.avi')\n",
    "file=open('file_output.txt','w')\n",
    "file.close()"
   ]
  },
  {
   "cell_type": "code",
   "execution_count": 111,
   "id": "e7ba4d44",
   "metadata": {},
   "outputs": [],
   "source": [
    "with open('file_input.txt') as file:\n",
    "    text=file.read()"
   ]
  },
  {
   "cell_type": "code",
   "execution_count": 112,
   "id": "f01c1b2d",
   "metadata": {},
   "outputs": [
    {
     "name": "stdout",
     "output_type": "stream",
     "text": [
      "3\n"
     ]
    }
   ],
   "source": [
    "text_ptr=0\n",
    "height,width=600,600\n",
    "total_pic=math.ceil(len(text)/(3*height*width))\n",
    "total_pic=math.ceil((len(text)+(total_pic*3))/(3*height*width))\n",
    "# print(total_pic)\n",
    "def encode(e):\n",
    "    global text_ptr\n",
    "    global height,width\n",
    "    img=np.zeros((height,width,3),dtype=np.uint8)\n",
    "    # text_ptr=0\n",
    "    flag=0\n",
    "    for i in range(height):\n",
    "        for j in range(width):\n",
    "            if(i==0 and j==0):\n",
    "                img[0][0]=[100,120,140]\n",
    "            elif((text_ptr+3)<len(text)):\n",
    "                img[i][j]=[int((hex(ord(text[text_ptr]))[2:]),16),int((hex(ord(text[text_ptr+1]))[2:]),16),int((hex(ord(text[text_ptr+2]))[2:]),16)]\n",
    "                text_ptr+=3\n",
    "            elif(text_ptr<len(text)):\n",
    "                k=0\n",
    "                while(text_ptr<len(text)):\n",
    "                    img[i][j][k]=int((hex(ord(text[text_ptr]))[2:]),16)\n",
    "                    text_ptr+=1\n",
    "                    k+=1\n",
    "                flag=1\n",
    "                break\n",
    "        if(flag==1):\n",
    "            break\n",
    "\n",
    "    img=cv2.cvtColor(img,cv2.COLOR_BGR2RGB)\n",
    "    # cv2.imshow(\"w\",img)\n",
    "    # cv2.waitKey(0)\n",
    "    # cv2.destroyAllWindows()\n",
    "    cv2.imwrite(f\"{'en/encode'}{e}{'.png'}\",img,params=None)\n",
    "\n",
    "for i in range(total_pic):\n",
    "    encode(i)"
   ]
  },
  {
   "cell_type": "code",
   "execution_count": 113,
   "id": "ced01e3f",
   "metadata": {},
   "outputs": [],
   "source": [
    "input_folder=\"en\"\n",
    "output_name=\"a.avi\"\n",
    "fps=1\n",
    "\n",
    "def pic_to_video():\n",
    "    image_files= sorted([f for f in os.listdir(input_folder)])\n",
    "    first_image_path=os.path.join(input_folder,image_files[0])\n",
    "    frame=cv2.imread(first_image_path)\n",
    "    height,width,layers=frame.shape\n",
    "    fourcc=cv2.VideoWriter_fourcc(*'FFV1')\n",
    "    video_writer=cv2.VideoWriter(output_name,fourcc,fps,(width,height))\n",
    "\n",
    "    for image_names in image_files:\n",
    "        image_path=os.path.join(input_folder,image_names)\n",
    "        frame=cv2.imread(image_path)\n",
    "        video_writer.write(frame)\n",
    "\n",
    "    video_writer.release()\n",
    "    cv2.destroyAllWindows()\n",
    "    \n",
    "    shutil.rmtree('en')\n",
    "pic_to_video()\n"
   ]
  },
  {
   "cell_type": "code",
   "execution_count": 114,
   "id": "1c89e606",
   "metadata": {},
   "outputs": [
    {
     "name": "stdout",
     "output_type": "stream",
     "text": [
      "frame 0\n",
      "frame 1\n",
      "frame 2\n"
     ]
    }
   ],
   "source": [
    "video_path='a.avi'\n",
    "\n",
    "def video_to_pic():\n",
    "    global frame_count\n",
    "    cap=cv2.VideoCapture(video_path)\n",
    "    if not cap.isOpened():\n",
    "        print('error')\n",
    "        exit()\n",
    "\n",
    "    frame_count=0\n",
    "    while True:\n",
    "        ret,frame=cap.read()\n",
    "        if not ret:\n",
    "            break\n",
    "        frame_filename=f'de/decode{frame_count}.png'\n",
    "        cv2.imwrite(frame_filename,frame)\n",
    "        # print('frame',frame_count)\n",
    "        frame_count+=1\n",
    "\n",
    "\n",
    "    cap.release()\n",
    "    cv2.destroyAllWindows()\n",
    "\n",
    "video_to_pic()"
   ]
  },
  {
   "cell_type": "code",
   "execution_count": 115,
   "id": "df3ae444",
   "metadata": {},
   "outputs": [],
   "source": [
    "def decode(e):\n",
    "    img2=cv2.imread(f\"{'de/decode'}{e}{'.png'}\")\n",
    "    img=cv2.cvtColor(img2,cv2.COLOR_BGR2RGB)\n",
    "    height,width=img2.shape[0],img2.shape[1]\n",
    "    flag=0\n",
    "    str=\"\"\n",
    "    for i in range(height):\n",
    "        for j in range(width):\n",
    "            if(i==0 and j==0):\n",
    "                continue\n",
    "            elif((img[i][j]==[0,0,0]).all()):\n",
    "                flag=1\n",
    "                break\n",
    "            else:\n",
    "                for k in range(3):\n",
    "                    if(img[i][j][k]!=0):\n",
    "                        str+=chr(img[i][j][k])\n",
    "        if(flag==1):\n",
    "            break\n",
    "    with open('file_output.txt','a') as file:\n",
    "        file.write(str)"
   ]
  },
  {
   "cell_type": "code",
   "execution_count": 116,
   "id": "4c9aa857",
   "metadata": {},
   "outputs": [
    {
     "name": "stdout",
     "output_type": "stream",
     "text": [
      "Sucessfully Encoded & Decoded\n"
     ]
    }
   ],
   "source": [
    "for i in range(frame_count):\n",
    "    decode(i)\n",
    "\n",
    "shutil.rmtree('de')\n",
    "\n",
    "print('Sucessfully Encoded & Decoded')"
   ]
  }
 ],
 "metadata": {
  "kernelspec": {
   "display_name": "Python 3",
   "language": "python",
   "name": "python3"
  },
  "language_info": {
   "codemirror_mode": {
    "name": "ipython",
    "version": 3
   },
   "file_extension": ".py",
   "mimetype": "text/x-python",
   "name": "python",
   "nbconvert_exporter": "python",
   "pygments_lexer": "ipython3",
   "version": "3.12.6"
  }
 },
 "nbformat": 4,
 "nbformat_minor": 5
}
